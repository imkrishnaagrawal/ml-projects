{
 "cells": [
  {
   "cell_type": "code",
   "execution_count": 1,
   "metadata": {},
   "outputs": [],
   "source": [
    "import gym\n",
    "import random\n",
    "import numpy as np\n",
    "from tensorflow.keras.models     import Sequential\n",
    "from tensorflow.keras.layers     import Dense\n",
    "from tensorflow.keras.optimizers import Adam"
   ]
  },
  {
   "cell_type": "code",
   "execution_count": 16,
   "metadata": {},
   "outputs": [],
   "source": [
    "env = gym.make('CartPole-v1')\n",
    "env.reset()\n",
    "goal_steps = 500\n",
    "score_requirement = 60\n",
    "intial_games = 10000"
   ]
  },
  {
   "cell_type": "code",
   "execution_count": 17,
   "metadata": {},
   "outputs": [],
   "source": [
    "def model_data_preparation():\n",
    "    training_data = []\n",
    "    accepted_scores = []\n",
    "    for game_index in range(intial_games):\n",
    "        score = 0\n",
    "        game_memory = []\n",
    "        previous_observation = []\n",
    "        for step_index in range(goal_steps):\n",
    "            action = random.randrange(0, 2)\n",
    "            observation, reward, done, info = env.step(action)\n",
    "            \n",
    "            if len(previous_observation) > 0:\n",
    "                game_memory.append([previous_observation, action])\n",
    "                \n",
    "            previous_observation = observation\n",
    "            score += reward\n",
    "            if done:\n",
    "                break\n",
    "            \n",
    "        if score >= score_requirement:\n",
    "            accepted_scores.append(score)\n",
    "            for data in game_memory:\n",
    "                if data[1] == 1:\n",
    "                    output = [0, 1]\n",
    "                elif data[1] == 0:\n",
    "                    output = [1, 0]\n",
    "                training_data.append([data[0], output])\n",
    "        \n",
    "        env.reset()\n",
    "\n",
    "    print(accepted_scores)\n",
    "    \n",
    "    return training_data"
   ]
  },
  {
   "cell_type": "code",
   "execution_count": 18,
   "metadata": {},
   "outputs": [
    {
     "name": "stdout",
     "output_type": "stream",
     "text": [
      "[66.0, 60.0, 62.0, 82.0, 60.0, 60.0, 69.0, 102.0, 83.0, 67.0, 69.0, 66.0, 64.0, 61.0, 62.0, 72.0, 82.0, 93.0, 75.0, 71.0, 67.0, 74.0, 63.0, 64.0, 70.0, 65.0, 69.0, 61.0, 64.0, 61.0, 81.0, 61.0, 67.0, 102.0, 77.0, 72.0, 67.0, 71.0, 63.0, 88.0, 84.0, 60.0, 72.0, 65.0, 63.0, 60.0, 79.0, 76.0, 73.0, 67.0, 75.0, 67.0, 81.0, 80.0, 79.0, 65.0, 60.0, 61.0, 75.0, 91.0, 63.0, 87.0, 68.0, 61.0, 77.0, 65.0, 64.0, 82.0, 77.0, 63.0, 66.0, 63.0, 61.0, 119.0, 62.0, 62.0, 68.0, 62.0, 61.0, 90.0, 62.0, 60.0, 66.0, 60.0, 68.0, 74.0, 60.0, 72.0, 67.0, 63.0, 64.0, 63.0, 64.0, 73.0, 66.0, 67.0, 65.0, 63.0, 60.0, 65.0, 68.0, 78.0, 96.0, 65.0, 62.0, 67.0, 71.0, 62.0, 69.0, 75.0, 63.0, 78.0, 66.0, 70.0, 75.0, 101.0, 77.0, 65.0, 65.0, 63.0, 69.0, 66.0, 70.0, 63.0, 67.0, 70.0, 62.0, 92.0, 71.0, 73.0, 98.0, 81.0, 67.0, 73.0, 61.0, 77.0, 61.0, 71.0, 74.0, 62.0, 68.0, 67.0, 64.0, 76.0, 64.0, 70.0, 72.0, 89.0, 61.0, 61.0, 91.0, 64.0, 77.0]\n"
     ]
    }
   ],
   "source": [
    "train = model_data_preparation()"
   ]
  },
  {
   "cell_type": "code",
   "execution_count": 19,
   "metadata": {},
   "outputs": [],
   "source": [
    "def build_model(input_size, output_size):\n",
    "    model = Sequential()\n",
    "    model.add(Dense(128, input_dim=input_size, activation='relu'))\n",
    "    model.add(Dense(52, activation='relu'))\n",
    "    model.add(Dense(output_size, activation='linear'))\n",
    "    model.compile(loss='mse', optimizer=Adam())\n",
    "    return model"
   ]
  },
  {
   "cell_type": "code",
   "execution_count": 20,
   "metadata": {},
   "outputs": [],
   "source": [
    "def train_model(training_data):\n",
    "    X = np.array([i[0] for i in training_data]).reshape(-1, len(training_data[0][0]))\n",
    "    y = np.array([i[1] for i in training_data]).reshape(-1, len(training_data[0][1]))\n",
    "    model = build_model(input_size=len(X[0]), output_size=len(y[0]))\n",
    "    \n",
    "    model.fit(X, y, epochs=3)\n",
    "    return model"
   ]
  },
  {
   "cell_type": "code",
   "execution_count": 21,
   "metadata": {},
   "outputs": [
    {
     "name": "stdout",
     "output_type": "stream",
     "text": [
      "Epoch 1/3\n",
      "10624/10624 [==============================] - 3s 265us/sample - loss: 0.2470\n",
      "Epoch 2/3\n",
      "10624/10624 [==============================] - 3s 289us/sample - loss: 0.2353\n",
      "Epoch 3/3\n",
      "10624/10624 [==============================] - 3s 265us/sample - loss: 0.2338\n"
     ]
    }
   ],
   "source": [
    "trained_model = train_model(train)"
   ]
  },
  {
   "cell_type": "code",
   "execution_count": 25,
   "metadata": {},
   "outputs": [
    {
     "name": "stdout",
     "output_type": "stream",
     "text": [
      "[158.0, 128.0, 156.0, 177.0, 226.0, 150.0, 176.0, 131.0, 153.0, 161.0, 500.0, 146.0, 168.0, 174.0, 168.0, 149.0, 152.0, 124.0, 195.0, 148.0, 142.0, 139.0, 172.0, 164.0, 166.0, 131.0, 163.0, 188.0, 149.0, 193.0, 338.0, 162.0, 221.0, 135.0, 124.0, 187.0, 143.0, 240.0, 171.0, 144.0, 172.0, 236.0, 224.0, 181.0, 188.0, 179.0, 206.0, 160.0, 128.0, 258.0, 141.0, 135.0, 157.0, 158.0, 138.0, 181.0, 142.0, 203.0, 163.0, 285.0, 193.0, 149.0, 180.0, 176.0, 130.0, 258.0, 230.0, 344.0, 157.0, 141.0, 199.0, 173.0, 147.0, 143.0, 364.0, 232.0, 155.0, 180.0, 179.0, 172.0, 200.0, 142.0, 143.0, 136.0, 187.0, 126.0, 197.0, 132.0, 139.0, 132.0, 191.0, 221.0, 223.0, 163.0, 174.0, 138.0, 161.0, 176.0, 297.0, 121.0]\n",
      "Average Score: 179.48\n",
      "choice 1:0.5273568085580566  choice 0:0.4726431914419434\n"
     ]
    }
   ],
   "source": [
    "\n",
    "scores = []\n",
    "choices = []\n",
    "for each_game in range(100):\n",
    "    score = 0\n",
    "    prev_obs = []\n",
    "    for step_index in range(goal_steps):\n",
    "        env.render()\n",
    "        if len(prev_obs)==0:\n",
    "            action = random.randrange(0,2)\n",
    "        else:\n",
    "            action = np.argmax(trained_model.predict(prev_obs.reshape(-1, len(prev_obs)))[0])\n",
    "        \n",
    "        choices.append(action)\n",
    "        new_observation, reward, done, info = env.step(action)\n",
    "        prev_obs = new_observation\n",
    "        score+=reward\n",
    "        if done:\n",
    "            break\n",
    "\n",
    "    env.reset()\n",
    "    scores.append(score)\n",
    "\n",
    "print(scores)\n",
    "print('Average Score:', sum(scores)/len(scores))\n",
    "print('choice 1:{}  choice 0:{}'.format(choices.count(1)/len(choices),choices.count(0)/len(choices)))"
   ]
  },
  {
   "cell_type": "code",
   "execution_count": 27,
   "metadata": {},
   "outputs": [],
   "source": [
    "env.close()"
   ]
  },
  {
   "cell_type": "code",
   "execution_count": null,
   "metadata": {},
   "outputs": [],
   "source": []
  },
  {
   "cell_type": "code",
   "execution_count": null,
   "metadata": {},
   "outputs": [],
   "source": []
  }
 ],
 "metadata": {
  "kernelspec": {
   "display_name": "Python 3",
   "language": "python",
   "name": "python3"
  },
  "language_info": {
   "codemirror_mode": {
    "name": "ipython",
    "version": 3
   },
   "file_extension": ".py",
   "mimetype": "text/x-python",
   "name": "python",
   "nbconvert_exporter": "python",
   "pygments_lexer": "ipython3",
   "version": "3.6.7"
  }
 },
 "nbformat": 4,
 "nbformat_minor": 2
}
